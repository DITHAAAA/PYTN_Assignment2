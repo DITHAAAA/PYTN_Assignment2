{
  "nbformat": 4,
  "nbformat_minor": 0,
  "metadata": {
    "colab": {
      "provenance": [],
      "authorship_tag": "ABX9TyNZa+KWkw7tj7Pl8VS96UF7",
      "include_colab_link": true
    },
    "kernelspec": {
      "name": "python3",
      "display_name": "Python 3"
    },
    "language_info": {
      "name": "python"
    }
  },
  "cells": [
    {
      "cell_type": "markdown",
      "metadata": {
        "id": "view-in-github",
        "colab_type": "text"
      },
      "source": [
        "<a href=\"https://colab.research.google.com/github/DITHAAAA/PYTN_Assignment2/blob/main/PYTN_Assgn_2_Batch_5_Ditha_Tul_Nugraha.ipynb\" target=\"_parent\"><img src=\"https://colab.research.google.com/assets/colab-badge.svg\" alt=\"Open In Colab\"/></a>"
      ]
    },
    {
      "cell_type": "markdown",
      "source": [],
      "metadata": {
        "id": "YFGJKLmkHdMi"
      }
    },
    {
      "cell_type": "code",
      "source": [
        "import math\n",
        "import statistics\n",
        "import numpy as np\n",
        "import pandas as pd\n",
        "from scipy.stats import ttest_ind\n",
        "import matplotlib.pyplot as plt\n",
        "import seaborn as sns"
      ],
      "metadata": {
        "id": "3ysBWqM4Hf0_"
      },
      "execution_count": null,
      "outputs": []
    },
    {
      "cell_type": "code",
      "source": [
        "df = pd.read_csv('nyc-rolling-sales.csv')\n",
        "df"
      ],
      "metadata": {
        "colab": {
          "base_uri": "https://localhost:8080/",
          "height": 894
        },
        "id": "fU9VWAVWgYst",
        "outputId": "0a4d1d89-dc66-40d1-f1da-c4093478ca9a"
      },
      "execution_count": null,
      "outputs": [
        {
          "output_type": "execute_result",
          "data": {
            "text/plain": [
              "       Unnamed: 0  BOROUGH   NEIGHBORHOOD  \\\n",
              "0               4        1  ALPHABET CITY   \n",
              "1               5        1  ALPHABET CITY   \n",
              "2               6        1  ALPHABET CITY   \n",
              "3               7        1  ALPHABET CITY   \n",
              "4               8        1  ALPHABET CITY   \n",
              "...           ...      ...            ...   \n",
              "84543        8409        5        WOODROW   \n",
              "84544        8410        5        WOODROW   \n",
              "84545        8411        5        WOODROW   \n",
              "84546        8412        5        WOODROW   \n",
              "84547        8413        5        WOODROW   \n",
              "\n",
              "                           BUILDING CLASS CATEGORY TAX CLASS AT PRESENT  \\\n",
              "0      07 RENTALS - WALKUP APARTMENTS                                2A   \n",
              "1      07 RENTALS - WALKUP APARTMENTS                                 2   \n",
              "2      07 RENTALS - WALKUP APARTMENTS                                 2   \n",
              "3      07 RENTALS - WALKUP APARTMENTS                                2B   \n",
              "4      07 RENTALS - WALKUP APARTMENTS                                2A   \n",
              "...                                            ...                  ...   \n",
              "84543  02 TWO FAMILY DWELLINGS                                        1   \n",
              "84544  02 TWO FAMILY DWELLINGS                                        1   \n",
              "84545  02 TWO FAMILY DWELLINGS                                        1   \n",
              "84546  22 STORE BUILDINGS                                             4   \n",
              "84547  35 INDOOR PUBLIC AND CULTURAL FACILITIES                       4   \n",
              "\n",
              "       BLOCK  LOT EASE-MENT BUILDING CLASS AT PRESENT                 ADDRESS  \\\n",
              "0        392    6                                  C2            153 AVENUE B   \n",
              "1        399   26                                  C7   234 EAST 4TH   STREET   \n",
              "2        399   39                                  C7   197 EAST 3RD   STREET   \n",
              "3        402   21                                  C4     154 EAST 7TH STREET   \n",
              "4        404   55                                  C2  301 EAST 10TH   STREET   \n",
              "...      ...  ...       ...                       ...                     ...   \n",
              "84543   7349   34                                  B9           37 QUAIL LANE   \n",
              "84544   7349   78                                  B9        32 PHEASANT LANE   \n",
              "84545   7351   60                                  B2        49 PITNEY AVENUE   \n",
              "84546   7100   28                                  K6   2730 ARTHUR KILL ROAD   \n",
              "84547   7105  679                                  P9       155 CLAY PIT ROAD   \n",
              "\n",
              "       ... RESIDENTIAL UNITS  COMMERCIAL UNITS  TOTAL UNITS  LAND SQUARE FEET  \\\n",
              "0      ...                 5                 0            5              1633   \n",
              "1      ...                28                 3           31              4616   \n",
              "2      ...                16                 1           17              2212   \n",
              "3      ...                10                 0           10              2272   \n",
              "4      ...                 6                 0            6              2369   \n",
              "...    ...               ...               ...          ...               ...   \n",
              "84543  ...                 2                 0            2              2400   \n",
              "84544  ...                 2                 0            2              2498   \n",
              "84545  ...                 2                 0            2              4000   \n",
              "84546  ...                 0                 7            7            208033   \n",
              "84547  ...                 0                 1            1             10796   \n",
              "\n",
              "       GROSS SQUARE FEET YEAR BUILT TAX CLASS AT TIME OF SALE  \\\n",
              "0                   6440       1900                         2   \n",
              "1                  18690       1900                         2   \n",
              "2                   7803       1900                         2   \n",
              "3                   6794       1913                         2   \n",
              "4                   4615       1900                         2   \n",
              "...                  ...        ...                       ...   \n",
              "84543               2575       1998                         1   \n",
              "84544               2377       1998                         1   \n",
              "84545               1496       1925                         1   \n",
              "84546              64117       2001                         4   \n",
              "84547               2400       2006                         4   \n",
              "\n",
              "       BUILDING CLASS AT TIME OF SALE  SALE PRICE            SALE DATE  \n",
              "0                                  C2     6625000  2017-07-19 00:00:00  \n",
              "1                                  C7         -    2016-12-14 00:00:00  \n",
              "2                                  C7         -    2016-12-09 00:00:00  \n",
              "3                                  C4     3936272  2016-09-23 00:00:00  \n",
              "4                                  C2     8000000  2016-11-17 00:00:00  \n",
              "...                               ...         ...                  ...  \n",
              "84543                              B9      450000  2016-11-28 00:00:00  \n",
              "84544                              B9      550000  2017-04-21 00:00:00  \n",
              "84545                              B2      460000  2017-07-05 00:00:00  \n",
              "84546                              K6    11693337  2016-12-21 00:00:00  \n",
              "84547                              P9       69300  2016-10-27 00:00:00  \n",
              "\n",
              "[84548 rows x 22 columns]"
            ],
            "text/html": [
              "\n",
              "  <div id=\"df-a19a0738-1069-4aa1-8b85-4a3b03dc08f8\" class=\"colab-df-container\">\n",
              "    <div>\n",
              "<style scoped>\n",
              "    .dataframe tbody tr th:only-of-type {\n",
              "        vertical-align: middle;\n",
              "    }\n",
              "\n",
              "    .dataframe tbody tr th {\n",
              "        vertical-align: top;\n",
              "    }\n",
              "\n",
              "    .dataframe thead th {\n",
              "        text-align: right;\n",
              "    }\n",
              "</style>\n",
              "<table border=\"1\" class=\"dataframe\">\n",
              "  <thead>\n",
              "    <tr style=\"text-align: right;\">\n",
              "      <th></th>\n",
              "      <th>Unnamed: 0</th>\n",
              "      <th>BOROUGH</th>\n",
              "      <th>NEIGHBORHOOD</th>\n",
              "      <th>BUILDING CLASS CATEGORY</th>\n",
              "      <th>TAX CLASS AT PRESENT</th>\n",
              "      <th>BLOCK</th>\n",
              "      <th>LOT</th>\n",
              "      <th>EASE-MENT</th>\n",
              "      <th>BUILDING CLASS AT PRESENT</th>\n",
              "      <th>ADDRESS</th>\n",
              "      <th>...</th>\n",
              "      <th>RESIDENTIAL UNITS</th>\n",
              "      <th>COMMERCIAL UNITS</th>\n",
              "      <th>TOTAL UNITS</th>\n",
              "      <th>LAND SQUARE FEET</th>\n",
              "      <th>GROSS SQUARE FEET</th>\n",
              "      <th>YEAR BUILT</th>\n",
              "      <th>TAX CLASS AT TIME OF SALE</th>\n",
              "      <th>BUILDING CLASS AT TIME OF SALE</th>\n",
              "      <th>SALE PRICE</th>\n",
              "      <th>SALE DATE</th>\n",
              "    </tr>\n",
              "  </thead>\n",
              "  <tbody>\n",
              "    <tr>\n",
              "      <th>0</th>\n",
              "      <td>4</td>\n",
              "      <td>1</td>\n",
              "      <td>ALPHABET CITY</td>\n",
              "      <td>07 RENTALS - WALKUP APARTMENTS</td>\n",
              "      <td>2A</td>\n",
              "      <td>392</td>\n",
              "      <td>6</td>\n",
              "      <td></td>\n",
              "      <td>C2</td>\n",
              "      <td>153 AVENUE B</td>\n",
              "      <td>...</td>\n",
              "      <td>5</td>\n",
              "      <td>0</td>\n",
              "      <td>5</td>\n",
              "      <td>1633</td>\n",
              "      <td>6440</td>\n",
              "      <td>1900</td>\n",
              "      <td>2</td>\n",
              "      <td>C2</td>\n",
              "      <td>6625000</td>\n",
              "      <td>2017-07-19 00:00:00</td>\n",
              "    </tr>\n",
              "    <tr>\n",
              "      <th>1</th>\n",
              "      <td>5</td>\n",
              "      <td>1</td>\n",
              "      <td>ALPHABET CITY</td>\n",
              "      <td>07 RENTALS - WALKUP APARTMENTS</td>\n",
              "      <td>2</td>\n",
              "      <td>399</td>\n",
              "      <td>26</td>\n",
              "      <td></td>\n",
              "      <td>C7</td>\n",
              "      <td>234 EAST 4TH   STREET</td>\n",
              "      <td>...</td>\n",
              "      <td>28</td>\n",
              "      <td>3</td>\n",
              "      <td>31</td>\n",
              "      <td>4616</td>\n",
              "      <td>18690</td>\n",
              "      <td>1900</td>\n",
              "      <td>2</td>\n",
              "      <td>C7</td>\n",
              "      <td>-</td>\n",
              "      <td>2016-12-14 00:00:00</td>\n",
              "    </tr>\n",
              "    <tr>\n",
              "      <th>2</th>\n",
              "      <td>6</td>\n",
              "      <td>1</td>\n",
              "      <td>ALPHABET CITY</td>\n",
              "      <td>07 RENTALS - WALKUP APARTMENTS</td>\n",
              "      <td>2</td>\n",
              "      <td>399</td>\n",
              "      <td>39</td>\n",
              "      <td></td>\n",
              "      <td>C7</td>\n",
              "      <td>197 EAST 3RD   STREET</td>\n",
              "      <td>...</td>\n",
              "      <td>16</td>\n",
              "      <td>1</td>\n",
              "      <td>17</td>\n",
              "      <td>2212</td>\n",
              "      <td>7803</td>\n",
              "      <td>1900</td>\n",
              "      <td>2</td>\n",
              "      <td>C7</td>\n",
              "      <td>-</td>\n",
              "      <td>2016-12-09 00:00:00</td>\n",
              "    </tr>\n",
              "    <tr>\n",
              "      <th>3</th>\n",
              "      <td>7</td>\n",
              "      <td>1</td>\n",
              "      <td>ALPHABET CITY</td>\n",
              "      <td>07 RENTALS - WALKUP APARTMENTS</td>\n",
              "      <td>2B</td>\n",
              "      <td>402</td>\n",
              "      <td>21</td>\n",
              "      <td></td>\n",
              "      <td>C4</td>\n",
              "      <td>154 EAST 7TH STREET</td>\n",
              "      <td>...</td>\n",
              "      <td>10</td>\n",
              "      <td>0</td>\n",
              "      <td>10</td>\n",
              "      <td>2272</td>\n",
              "      <td>6794</td>\n",
              "      <td>1913</td>\n",
              "      <td>2</td>\n",
              "      <td>C4</td>\n",
              "      <td>3936272</td>\n",
              "      <td>2016-09-23 00:00:00</td>\n",
              "    </tr>\n",
              "    <tr>\n",
              "      <th>4</th>\n",
              "      <td>8</td>\n",
              "      <td>1</td>\n",
              "      <td>ALPHABET CITY</td>\n",
              "      <td>07 RENTALS - WALKUP APARTMENTS</td>\n",
              "      <td>2A</td>\n",
              "      <td>404</td>\n",
              "      <td>55</td>\n",
              "      <td></td>\n",
              "      <td>C2</td>\n",
              "      <td>301 EAST 10TH   STREET</td>\n",
              "      <td>...</td>\n",
              "      <td>6</td>\n",
              "      <td>0</td>\n",
              "      <td>6</td>\n",
              "      <td>2369</td>\n",
              "      <td>4615</td>\n",
              "      <td>1900</td>\n",
              "      <td>2</td>\n",
              "      <td>C2</td>\n",
              "      <td>8000000</td>\n",
              "      <td>2016-11-17 00:00:00</td>\n",
              "    </tr>\n",
              "    <tr>\n",
              "      <th>...</th>\n",
              "      <td>...</td>\n",
              "      <td>...</td>\n",
              "      <td>...</td>\n",
              "      <td>...</td>\n",
              "      <td>...</td>\n",
              "      <td>...</td>\n",
              "      <td>...</td>\n",
              "      <td>...</td>\n",
              "      <td>...</td>\n",
              "      <td>...</td>\n",
              "      <td>...</td>\n",
              "      <td>...</td>\n",
              "      <td>...</td>\n",
              "      <td>...</td>\n",
              "      <td>...</td>\n",
              "      <td>...</td>\n",
              "      <td>...</td>\n",
              "      <td>...</td>\n",
              "      <td>...</td>\n",
              "      <td>...</td>\n",
              "      <td>...</td>\n",
              "    </tr>\n",
              "    <tr>\n",
              "      <th>84543</th>\n",
              "      <td>8409</td>\n",
              "      <td>5</td>\n",
              "      <td>WOODROW</td>\n",
              "      <td>02 TWO FAMILY DWELLINGS</td>\n",
              "      <td>1</td>\n",
              "      <td>7349</td>\n",
              "      <td>34</td>\n",
              "      <td></td>\n",
              "      <td>B9</td>\n",
              "      <td>37 QUAIL LANE</td>\n",
              "      <td>...</td>\n",
              "      <td>2</td>\n",
              "      <td>0</td>\n",
              "      <td>2</td>\n",
              "      <td>2400</td>\n",
              "      <td>2575</td>\n",
              "      <td>1998</td>\n",
              "      <td>1</td>\n",
              "      <td>B9</td>\n",
              "      <td>450000</td>\n",
              "      <td>2016-11-28 00:00:00</td>\n",
              "    </tr>\n",
              "    <tr>\n",
              "      <th>84544</th>\n",
              "      <td>8410</td>\n",
              "      <td>5</td>\n",
              "      <td>WOODROW</td>\n",
              "      <td>02 TWO FAMILY DWELLINGS</td>\n",
              "      <td>1</td>\n",
              "      <td>7349</td>\n",
              "      <td>78</td>\n",
              "      <td></td>\n",
              "      <td>B9</td>\n",
              "      <td>32 PHEASANT LANE</td>\n",
              "      <td>...</td>\n",
              "      <td>2</td>\n",
              "      <td>0</td>\n",
              "      <td>2</td>\n",
              "      <td>2498</td>\n",
              "      <td>2377</td>\n",
              "      <td>1998</td>\n",
              "      <td>1</td>\n",
              "      <td>B9</td>\n",
              "      <td>550000</td>\n",
              "      <td>2017-04-21 00:00:00</td>\n",
              "    </tr>\n",
              "    <tr>\n",
              "      <th>84545</th>\n",
              "      <td>8411</td>\n",
              "      <td>5</td>\n",
              "      <td>WOODROW</td>\n",
              "      <td>02 TWO FAMILY DWELLINGS</td>\n",
              "      <td>1</td>\n",
              "      <td>7351</td>\n",
              "      <td>60</td>\n",
              "      <td></td>\n",
              "      <td>B2</td>\n",
              "      <td>49 PITNEY AVENUE</td>\n",
              "      <td>...</td>\n",
              "      <td>2</td>\n",
              "      <td>0</td>\n",
              "      <td>2</td>\n",
              "      <td>4000</td>\n",
              "      <td>1496</td>\n",
              "      <td>1925</td>\n",
              "      <td>1</td>\n",
              "      <td>B2</td>\n",
              "      <td>460000</td>\n",
              "      <td>2017-07-05 00:00:00</td>\n",
              "    </tr>\n",
              "    <tr>\n",
              "      <th>84546</th>\n",
              "      <td>8412</td>\n",
              "      <td>5</td>\n",
              "      <td>WOODROW</td>\n",
              "      <td>22 STORE BUILDINGS</td>\n",
              "      <td>4</td>\n",
              "      <td>7100</td>\n",
              "      <td>28</td>\n",
              "      <td></td>\n",
              "      <td>K6</td>\n",
              "      <td>2730 ARTHUR KILL ROAD</td>\n",
              "      <td>...</td>\n",
              "      <td>0</td>\n",
              "      <td>7</td>\n",
              "      <td>7</td>\n",
              "      <td>208033</td>\n",
              "      <td>64117</td>\n",
              "      <td>2001</td>\n",
              "      <td>4</td>\n",
              "      <td>K6</td>\n",
              "      <td>11693337</td>\n",
              "      <td>2016-12-21 00:00:00</td>\n",
              "    </tr>\n",
              "    <tr>\n",
              "      <th>84547</th>\n",
              "      <td>8413</td>\n",
              "      <td>5</td>\n",
              "      <td>WOODROW</td>\n",
              "      <td>35 INDOOR PUBLIC AND CULTURAL FACILITIES</td>\n",
              "      <td>4</td>\n",
              "      <td>7105</td>\n",
              "      <td>679</td>\n",
              "      <td></td>\n",
              "      <td>P9</td>\n",
              "      <td>155 CLAY PIT ROAD</td>\n",
              "      <td>...</td>\n",
              "      <td>0</td>\n",
              "      <td>1</td>\n",
              "      <td>1</td>\n",
              "      <td>10796</td>\n",
              "      <td>2400</td>\n",
              "      <td>2006</td>\n",
              "      <td>4</td>\n",
              "      <td>P9</td>\n",
              "      <td>69300</td>\n",
              "      <td>2016-10-27 00:00:00</td>\n",
              "    </tr>\n",
              "  </tbody>\n",
              "</table>\n",
              "<p>84548 rows × 22 columns</p>\n",
              "</div>\n",
              "    <div class=\"colab-df-buttons\">\n",
              "\n",
              "  <div class=\"colab-df-container\">\n",
              "    <button class=\"colab-df-convert\" onclick=\"convertToInteractive('df-a19a0738-1069-4aa1-8b85-4a3b03dc08f8')\"\n",
              "            title=\"Convert this dataframe to an interactive table.\"\n",
              "            style=\"display:none;\">\n",
              "\n",
              "  <svg xmlns=\"http://www.w3.org/2000/svg\" height=\"24px\" viewBox=\"0 -960 960 960\">\n",
              "    <path d=\"M120-120v-720h720v720H120Zm60-500h600v-160H180v160Zm220 220h160v-160H400v160Zm0 220h160v-160H400v160ZM180-400h160v-160H180v160Zm440 0h160v-160H620v160ZM180-180h160v-160H180v160Zm440 0h160v-160H620v160Z\"/>\n",
              "  </svg>\n",
              "    </button>\n",
              "\n",
              "  <style>\n",
              "    .colab-df-container {\n",
              "      display:flex;\n",
              "      gap: 12px;\n",
              "    }\n",
              "\n",
              "    .colab-df-convert {\n",
              "      background-color: #E8F0FE;\n",
              "      border: none;\n",
              "      border-radius: 50%;\n",
              "      cursor: pointer;\n",
              "      display: none;\n",
              "      fill: #1967D2;\n",
              "      height: 32px;\n",
              "      padding: 0 0 0 0;\n",
              "      width: 32px;\n",
              "    }\n",
              "\n",
              "    .colab-df-convert:hover {\n",
              "      background-color: #E2EBFA;\n",
              "      box-shadow: 0px 1px 2px rgba(60, 64, 67, 0.3), 0px 1px 3px 1px rgba(60, 64, 67, 0.15);\n",
              "      fill: #174EA6;\n",
              "    }\n",
              "\n",
              "    .colab-df-buttons div {\n",
              "      margin-bottom: 4px;\n",
              "    }\n",
              "\n",
              "    [theme=dark] .colab-df-convert {\n",
              "      background-color: #3B4455;\n",
              "      fill: #D2E3FC;\n",
              "    }\n",
              "\n",
              "    [theme=dark] .colab-df-convert:hover {\n",
              "      background-color: #434B5C;\n",
              "      box-shadow: 0px 1px 3px 1px rgba(0, 0, 0, 0.15);\n",
              "      filter: drop-shadow(0px 1px 2px rgba(0, 0, 0, 0.3));\n",
              "      fill: #FFFFFF;\n",
              "    }\n",
              "  </style>\n",
              "\n",
              "    <script>\n",
              "      const buttonEl =\n",
              "        document.querySelector('#df-a19a0738-1069-4aa1-8b85-4a3b03dc08f8 button.colab-df-convert');\n",
              "      buttonEl.style.display =\n",
              "        google.colab.kernel.accessAllowed ? 'block' : 'none';\n",
              "\n",
              "      async function convertToInteractive(key) {\n",
              "        const element = document.querySelector('#df-a19a0738-1069-4aa1-8b85-4a3b03dc08f8');\n",
              "        const dataTable =\n",
              "          await google.colab.kernel.invokeFunction('convertToInteractive',\n",
              "                                                    [key], {});\n",
              "        if (!dataTable) return;\n",
              "\n",
              "        const docLinkHtml = 'Like what you see? Visit the ' +\n",
              "          '<a target=\"_blank\" href=https://colab.research.google.com/notebooks/data_table.ipynb>data table notebook</a>'\n",
              "          + ' to learn more about interactive tables.';\n",
              "        element.innerHTML = '';\n",
              "        dataTable['output_type'] = 'display_data';\n",
              "        await google.colab.output.renderOutput(dataTable, element);\n",
              "        const docLink = document.createElement('div');\n",
              "        docLink.innerHTML = docLinkHtml;\n",
              "        element.appendChild(docLink);\n",
              "      }\n",
              "    </script>\n",
              "  </div>\n",
              "\n",
              "\n",
              "<div id=\"df-8e094314-bdbc-44ca-a535-39f10864d030\">\n",
              "  <button class=\"colab-df-quickchart\" onclick=\"quickchart('df-8e094314-bdbc-44ca-a535-39f10864d030')\"\n",
              "            title=\"Suggest charts.\"\n",
              "            style=\"display:none;\">\n",
              "\n",
              "<svg xmlns=\"http://www.w3.org/2000/svg\" height=\"24px\"viewBox=\"0 0 24 24\"\n",
              "     width=\"24px\">\n",
              "    <g>\n",
              "        <path d=\"M19 3H5c-1.1 0-2 .9-2 2v14c0 1.1.9 2 2 2h14c1.1 0 2-.9 2-2V5c0-1.1-.9-2-2-2zM9 17H7v-7h2v7zm4 0h-2V7h2v10zm4 0h-2v-4h2v4z\"/>\n",
              "    </g>\n",
              "</svg>\n",
              "  </button>\n",
              "\n",
              "<style>\n",
              "  .colab-df-quickchart {\n",
              "      --bg-color: #E8F0FE;\n",
              "      --fill-color: #1967D2;\n",
              "      --hover-bg-color: #E2EBFA;\n",
              "      --hover-fill-color: #174EA6;\n",
              "      --disabled-fill-color: #AAA;\n",
              "      --disabled-bg-color: #DDD;\n",
              "  }\n",
              "\n",
              "  [theme=dark] .colab-df-quickchart {\n",
              "      --bg-color: #3B4455;\n",
              "      --fill-color: #D2E3FC;\n",
              "      --hover-bg-color: #434B5C;\n",
              "      --hover-fill-color: #FFFFFF;\n",
              "      --disabled-bg-color: #3B4455;\n",
              "      --disabled-fill-color: #666;\n",
              "  }\n",
              "\n",
              "  .colab-df-quickchart {\n",
              "    background-color: var(--bg-color);\n",
              "    border: none;\n",
              "    border-radius: 50%;\n",
              "    cursor: pointer;\n",
              "    display: none;\n",
              "    fill: var(--fill-color);\n",
              "    height: 32px;\n",
              "    padding: 0;\n",
              "    width: 32px;\n",
              "  }\n",
              "\n",
              "  .colab-df-quickchart:hover {\n",
              "    background-color: var(--hover-bg-color);\n",
              "    box-shadow: 0 1px 2px rgba(60, 64, 67, 0.3), 0 1px 3px 1px rgba(60, 64, 67, 0.15);\n",
              "    fill: var(--button-hover-fill-color);\n",
              "  }\n",
              "\n",
              "  .colab-df-quickchart-complete:disabled,\n",
              "  .colab-df-quickchart-complete:disabled:hover {\n",
              "    background-color: var(--disabled-bg-color);\n",
              "    fill: var(--disabled-fill-color);\n",
              "    box-shadow: none;\n",
              "  }\n",
              "\n",
              "  .colab-df-spinner {\n",
              "    border: 2px solid var(--fill-color);\n",
              "    border-color: transparent;\n",
              "    border-bottom-color: var(--fill-color);\n",
              "    animation:\n",
              "      spin 1s steps(1) infinite;\n",
              "  }\n",
              "\n",
              "  @keyframes spin {\n",
              "    0% {\n",
              "      border-color: transparent;\n",
              "      border-bottom-color: var(--fill-color);\n",
              "      border-left-color: var(--fill-color);\n",
              "    }\n",
              "    20% {\n",
              "      border-color: transparent;\n",
              "      border-left-color: var(--fill-color);\n",
              "      border-top-color: var(--fill-color);\n",
              "    }\n",
              "    30% {\n",
              "      border-color: transparent;\n",
              "      border-left-color: var(--fill-color);\n",
              "      border-top-color: var(--fill-color);\n",
              "      border-right-color: var(--fill-color);\n",
              "    }\n",
              "    40% {\n",
              "      border-color: transparent;\n",
              "      border-right-color: var(--fill-color);\n",
              "      border-top-color: var(--fill-color);\n",
              "    }\n",
              "    60% {\n",
              "      border-color: transparent;\n",
              "      border-right-color: var(--fill-color);\n",
              "    }\n",
              "    80% {\n",
              "      border-color: transparent;\n",
              "      border-right-color: var(--fill-color);\n",
              "      border-bottom-color: var(--fill-color);\n",
              "    }\n",
              "    90% {\n",
              "      border-color: transparent;\n",
              "      border-bottom-color: var(--fill-color);\n",
              "    }\n",
              "  }\n",
              "</style>\n",
              "\n",
              "  <script>\n",
              "    async function quickchart(key) {\n",
              "      const quickchartButtonEl =\n",
              "        document.querySelector('#' + key + ' button');\n",
              "      quickchartButtonEl.disabled = true;  // To prevent multiple clicks.\n",
              "      quickchartButtonEl.classList.add('colab-df-spinner');\n",
              "      try {\n",
              "        const charts = await google.colab.kernel.invokeFunction(\n",
              "            'suggestCharts', [key], {});\n",
              "      } catch (error) {\n",
              "        console.error('Error during call to suggestCharts:', error);\n",
              "      }\n",
              "      quickchartButtonEl.classList.remove('colab-df-spinner');\n",
              "      quickchartButtonEl.classList.add('colab-df-quickchart-complete');\n",
              "    }\n",
              "    (() => {\n",
              "      let quickchartButtonEl =\n",
              "        document.querySelector('#df-8e094314-bdbc-44ca-a535-39f10864d030 button');\n",
              "      quickchartButtonEl.style.display =\n",
              "        google.colab.kernel.accessAllowed ? 'block' : 'none';\n",
              "    })();\n",
              "  </script>\n",
              "</div>\n",
              "    </div>\n",
              "  </div>\n"
            ]
          },
          "metadata": {},
          "execution_count": 76
        }
      ]
    },
    {
      "cell_type": "markdown",
      "source": [
        "#**Measure of Central Tendency: Mean**"
      ],
      "metadata": {
        "id": "uhn__ys_LDEO"
      }
    },
    {
      "cell_type": "code",
      "execution_count": null,
      "metadata": {
        "id": "yFEAky3qeks_",
        "colab": {
          "base_uri": "https://localhost:8080/"
        },
        "outputId": "3d811dee-eab0-4d3b-82eb-a8d1f853b992"
      },
      "outputs": [
        {
          "output_type": "stream",
          "name": "stdout",
          "text": [
            "Mean LOT: 376.22401476084593\n"
          ]
        }
      ],
      "source": [
        "# Assuming you have a column named 'price' that you want to calculate the mean for\n",
        "mean_LOT = df['LOT'].mean()\n",
        "\n",
        "print(f\"Mean LOT: {mean_LOT}\")"
      ]
    },
    {
      "cell_type": "markdown",
      "source": [
        "##**Weighted Mean**"
      ],
      "metadata": {
        "id": "J8V302POdpoQ"
      }
    },
    {
      "cell_type": "code",
      "source": [
        "# Tentukan bobot dan hitung mean terbobot untuk kolom 'price' dan 'GROSS SQUARE FEET'\n",
        "harga = df['LOT']\n",
        "jumlah_kamar = df['TOTAL UNITS']\n",
        "rata_rata_tertimbang = (harga * jumlah_kamar).sum() / jumlah_kamar.sum()\n",
        "print(f\"\\nRata-rata Tertimbang Harga: {rata_rata_tertimbang}\")"
      ],
      "metadata": {
        "colab": {
          "base_uri": "https://localhost:8080/"
        },
        "id": "dnJ7JTnHolMS",
        "outputId": "6f7345a5-f178-4ee3-c566-552f82fb5070"
      },
      "execution_count": null,
      "outputs": [
        {
          "output_type": "stream",
          "name": "stdout",
          "text": [
            "\n",
            "Rata-rata Tertimbang Harga: 192.0866094528933\n"
          ]
        }
      ]
    },
    {
      "cell_type": "markdown",
      "source": [
        "Menggunakan kolom 'LOT' sebagai variabel yang akan dihitung rata-ratanya dan kolom 'TOTAL UNITS' sebagai variabel bobot. Menggunakan rumus rata-rata tertimbang: Σ(xi * wi) / Σwi. Mencetak hasil rata-rata tertimbang ke konsol menggunakan fungsi 'print()'."
      ],
      "metadata": {
        "id": "8SAdeNRhpDiM"
      }
    },
    {
      "cell_type": "markdown",
      "source": [
        "##**Harmonic Mean**"
      ],
      "metadata": {
        "id": "NjTZ3skOd7_v"
      }
    },
    {
      "cell_type": "code",
      "source": [
        "# Menentukan variabel yang akan dihitung rata-ratanya\n",
        "harga = df['BOROUGH']\n",
        "jumlah_data = len(harga)\n",
        "harmonic_mean = jumlah_data / sum(1 / x for x in harga)\n",
        "\n",
        "print(f\"\\nRata-rata Harmonik Harga: {harmonic_mean}\")"
      ],
      "metadata": {
        "colab": {
          "base_uri": "https://localhost:8080/"
        },
        "id": "hUyNjUmTs4xR",
        "outputId": "1cc126b5-8e12-4247-b23b-48df38e07421"
      },
      "execution_count": null,
      "outputs": [
        {
          "output_type": "stream",
          "name": "stdout",
          "text": [
            "\n",
            "Rata-rata Harmonik Harga: 2.2125937201533197\n"
          ]
        }
      ]
    },
    {
      "cell_type": "markdown",
      "source": [
        "Menggunakan kolom 'BOROUGH' sebagai variabel yang akan dihitung rata-ratanya.\n",
        "Menggunakan rumus rata-rata harmonik: n / (Σ(1/xi)). Mencetak hasil rata-rata harmonik ke konsol menggunakan fungsi 'print()'."
      ],
      "metadata": {
        "id": "1cKUFOO1tkIt"
      }
    },
    {
      "cell_type": "markdown",
      "source": [
        "##**Geometric Mean**"
      ],
      "metadata": {
        "id": "8sKWgLlhd7ju"
      }
    },
    {
      "cell_type": "code",
      "source": [
        "# Menentukan variabel yang akan dihitung rata-ratanya\n",
        "harga = df['BLOCK']\n",
        "geometric_mean = np.exp(np.log(harga).mean())\n",
        "\n",
        "print(f\"\\nRata-rata Geometrik Harga: {geometric_mean}\")"
      ],
      "metadata": {
        "colab": {
          "base_uri": "https://localhost:8080/"
        },
        "id": "i4Wu8Ci6dOsd",
        "outputId": "ef679d64-ec8b-4b97-d04d-2e99250860ff"
      },
      "execution_count": null,
      "outputs": [
        {
          "output_type": "stream",
          "name": "stdout",
          "text": [
            "\n",
            "Rata-rata Geometrik Harga: 2593.000718406868\n"
          ]
        }
      ]
    },
    {
      "cell_type": "markdown",
      "source": [
        "Menggunakan kolom 'BLOCK' sebagai variabel yang akan dihitung rata-ratanya. Menggunakan rumus rata-rata geometrik: exp(Σ(log(xi)) / n). Mencetak hasil rata-rata geometrik ke konsol menggunakan fungsi 'print()'."
      ],
      "metadata": {
        "id": "hlFp8bbHdWtu"
      }
    },
    {
      "cell_type": "markdown",
      "source": [
        "#**Measure of Central Tendency: Median**"
      ],
      "metadata": {
        "id": "ETzi6SSLMuy9"
      }
    },
    {
      "cell_type": "code",
      "source": [
        "# print(\"YEAR BUILT\")\n",
        "print(df.head())\n",
        "\n",
        "# Hitungan Median\n",
        "median_YEARBUILT = df['YEAR BUILT'].median()\n",
        "\n",
        "# Tampilkan hasil Median\n",
        "print(f\"\\nMedian harga: {median_YEARBUILT}\")  # Mencetak nilai median yang dihitung ke konsol menggunakan fungsi \"print()\".\n",
        "\n"
      ],
      "metadata": {
        "colab": {
          "base_uri": "https://localhost:8080/"
        },
        "id": "GkC1a16QYV_U",
        "outputId": "b4660efe-b03b-4877-8977-58d2b09e6ee1"
      },
      "execution_count": null,
      "outputs": [
        {
          "output_type": "stream",
          "name": "stdout",
          "text": [
            "   Unnamed: 0  BOROUGH   NEIGHBORHOOD  \\\n",
            "0           4        1  ALPHABET CITY   \n",
            "1           5        1  ALPHABET CITY   \n",
            "2           6        1  ALPHABET CITY   \n",
            "3           7        1  ALPHABET CITY   \n",
            "4           8        1  ALPHABET CITY   \n",
            "\n",
            "                       BUILDING CLASS CATEGORY TAX CLASS AT PRESENT  BLOCK  \\\n",
            "0  07 RENTALS - WALKUP APARTMENTS                                2A    392   \n",
            "1  07 RENTALS - WALKUP APARTMENTS                                 2    399   \n",
            "2  07 RENTALS - WALKUP APARTMENTS                                 2    399   \n",
            "3  07 RENTALS - WALKUP APARTMENTS                                2B    402   \n",
            "4  07 RENTALS - WALKUP APARTMENTS                                2A    404   \n",
            "\n",
            "   LOT EASE-MENT BUILDING CLASS AT PRESENT                 ADDRESS  ...  \\\n",
            "0    6                                  C2            153 AVENUE B  ...   \n",
            "1   26                                  C7   234 EAST 4TH   STREET  ...   \n",
            "2   39                                  C7   197 EAST 3RD   STREET  ...   \n",
            "3   21                                  C4     154 EAST 7TH STREET  ...   \n",
            "4   55                                  C2  301 EAST 10TH   STREET  ...   \n",
            "\n",
            "  RESIDENTIAL UNITS  COMMERCIAL UNITS  TOTAL UNITS  LAND SQUARE FEET  \\\n",
            "0                 5                 0            5              1633   \n",
            "1                28                 3           31              4616   \n",
            "2                16                 1           17              2212   \n",
            "3                10                 0           10              2272   \n",
            "4                 6                 0            6              2369   \n",
            "\n",
            "   GROSS SQUARE FEET YEAR BUILT TAX CLASS AT TIME OF SALE  \\\n",
            "0               6440       1900                         2   \n",
            "1              18690       1900                         2   \n",
            "2               7803       1900                         2   \n",
            "3               6794       1913                         2   \n",
            "4               4615       1900                         2   \n",
            "\n",
            "   BUILDING CLASS AT TIME OF SALE  SALE PRICE            SALE DATE  \n",
            "0                              C2     6625000  2017-07-19 00:00:00  \n",
            "1                              C7         -    2016-12-14 00:00:00  \n",
            "2                              C7         -    2016-12-09 00:00:00  \n",
            "3                              C4     3936272  2016-09-23 00:00:00  \n",
            "4                              C2     8000000  2016-11-17 00:00:00  \n",
            "\n",
            "[5 rows x 22 columns]\n",
            "\n",
            "Median harga: 1940.0\n"
          ]
        }
      ]
    },
    {
      "cell_type": "code",
      "source": [
        "print(\"\\nStatistik Tambahan:\")\n",
        "print(df['YEAR BUILT'].describe())"
      ],
      "metadata": {
        "colab": {
          "base_uri": "https://localhost:8080/"
        },
        "id": "wYE0T8Anicpi",
        "outputId": "2672d55e-95c7-4269-f6d5-482d822e6bf7"
      },
      "execution_count": null,
      "outputs": [
        {
          "output_type": "stream",
          "name": "stdout",
          "text": [
            "\n",
            "Statistik Tambahan:\n",
            "count    84548.000000\n",
            "mean      1789.322976\n",
            "std        537.344993\n",
            "min          0.000000\n",
            "25%       1920.000000\n",
            "50%       1940.000000\n",
            "75%       1965.000000\n",
            "max       2017.000000\n",
            "Name: YEAR BUILT, dtype: float64\n"
          ]
        }
      ]
    },
    {
      "cell_type": "markdown",
      "source": [
        "Dalam menggunakan fungsi \"describe()\" untuk menampilkan statistik tambahan dari kolom \"YEAR BUILT\", termasuk count, mean, std (standar deviasi), min, 25%, 50%, 75%, dan max."
      ],
      "metadata": {
        "id": "tsjyUTftllC1"
      }
    },
    {
      "cell_type": "code",
      "source": [
        "plt.hist(df['YEAR BUILT'], bins=20, color='green', edgecolor='black')\n",
        "plt.title('Distribusi Harga')\n",
        "plt.xlabel('Harga')\n",
        "plt.ylabel('Frekuensi')\n",
        "plt.show()"
      ],
      "metadata": {
        "colab": {
          "base_uri": "https://localhost:8080/",
          "height": 472
        },
        "id": "fyysqAurke-V",
        "outputId": "88f85e4a-261c-4497-a43d-61369be5eb56"
      },
      "execution_count": null,
      "outputs": [
        {
          "output_type": "display_data",
          "data": {
            "text/plain": [
              "<Figure size 640x480 with 1 Axes>"
            ],
            "image/png": "[encoded data removed]"
          },
          "metadata": {}
        }
      ]
    },
    {
      "cell_type": "markdown",
      "source": [
        "Menggunakan matplotlib untuk histogram sederhana guna meemvisualisasikan distribusi harga dalam dataset."
      ],
      "metadata": {
        "id": "hUMFeWidlKTe"
      }
    },
    {
      "cell_type": "markdown",
      "source": [
        "#**Measure of Central Tendency: Modus**"
      ],
      "metadata": {
        "id": "VGHnM74tM0KZ"
      }
    },
    {
      "cell_type": "code",
      "source": [
        "# Hitung Modus dan hasil\n",
        "mode_BLOCK = df[\"BLOCK\"].mode()\n",
        "print(f\"\\nModus harga: {mode_BLOCK.iloc[0]}\")"
      ],
      "metadata": {
        "colab": {
          "base_uri": "https://localhost:8080/"
        },
        "id": "2TWgb_96nQUk",
        "outputId": "06815d76-3ad5-45fa-94ae-2eac6bc1f8c8"
      },
      "execution_count": null,
      "outputs": [
        {
          "output_type": "stream",
          "name": "stdout",
          "text": [
            "\n",
            "Modus harga: 5066\n"
          ]
        }
      ]
    },
    {
      "cell_type": "code",
      "source": [
        "plt.hist(df['BLOCK'], bins=20, color='orange', edgecolor='black')\n",
        "plt.title('Distribusi Harga')\n",
        "plt.xlabel('Harga')\n",
        "plt.ylabel('Frekuensi')\n",
        "plt.show()"
      ],
      "metadata": {
        "colab": {
          "base_uri": "https://localhost:8080/",
          "height": 472
        },
        "id": "ptEq-48i7hux",
        "outputId": "edc7a589-9ea8-40e5-b3c5-516e3665cada"
      },
      "execution_count": null,
      "outputs": [
        {
          "output_type": "display_data",
          "data": {
            "text/plain": [
              "<Figure size 640x480 with 1 Axes>"
            ],
            "image/png": "[encoded data removed]"
          },
          "metadata": {}
        }
      ]
    },
    {
      "cell_type": "markdown",
      "source": [
        "#**Measure of Spread: Range**"
      ],
      "metadata": {
        "id": "p6MR4WD1M3yG"
      }
    },
    {
      "cell_type": "code",
      "source": [
        "# Hitung Rentang\n",
        "data_range = df['RESIDENTIAL UNITS'].max() - df['RESIDENTIAL UNITS'].min()\n",
        "print(f\"\\nRentang harga: {data_range}\")"
      ],
      "metadata": {
        "colab": {
          "base_uri": "https://localhost:8080/"
        },
        "id": "FiCD-u0JB26H",
        "outputId": "a486d683-7a8e-497c-e6d1-aba5b709dca1"
      },
      "execution_count": null,
      "outputs": [
        {
          "output_type": "stream",
          "name": "stdout",
          "text": [
            "\n",
            "Rentang harga: 1844\n"
          ]
        }
      ]
    },
    {
      "cell_type": "markdown",
      "source": [
        "#**Measure of Spread: Variance**"
      ],
      "metadata": {
        "id": "RlBzqBcANBN9"
      }
    },
    {
      "cell_type": "code",
      "source": [
        "# Hitung Variance\n",
        "variance_TOTALUNITS = df['TOTAL UNITS'].var()\n",
        "print(f\"\\nVariance harga: {variance_TOTALUNITS}\")"
      ],
      "metadata": {
        "colab": {
          "base_uri": "https://localhost:8080/"
        },
        "id": "5VhtxlW7JdLZ",
        "outputId": "454843b6-e5a9-429d-8d56-da9a2f09df78"
      },
      "execution_count": null,
      "outputs": [
        {
          "output_type": "stream",
          "name": "stdout",
          "text": [
            "\n",
            "Variance harga: 359.958960030383\n"
          ]
        }
      ]
    },
    {
      "cell_type": "code",
      "source": [
        "plt.hist(df['TOTAL UNITS'], bins=20, color='purple', edgecolor='black')\n",
        "plt.title('Distribusi Harga')\n",
        "plt.xlabel('Harga')\n",
        "plt.ylabel('Frekuensi')\n",
        "plt.show()"
      ],
      "metadata": {
        "colab": {
          "base_uri": "https://localhost:8080/",
          "height": 472
        },
        "id": "EiZZypTUNznD",
        "outputId": "d2100da5-20cc-41d3-fb68-fc5b84245de3"
      },
      "execution_count": null,
      "outputs": [
        {
          "output_type": "display_data",
          "data": {
            "text/plain": [
              "<Figure size 640x480 with 1 Axes>"
            ],
            "image/png": "[encoded data removed]"
          },
          "metadata": {}
        }
      ]
    },
    {
      "cell_type": "markdown",
      "source": [
        "#**Measure of Spread: Standard deviation**"
      ],
      "metadata": {
        "id": "viB78TR9NJoW"
      }
    },
    {
      "cell_type": "code",
      "source": [
        "# Hitung Deviasi Standar\n",
        "std_deviation_BLOCK = df['BLOCK'].std()\n",
        "print(f\"\\nDeviassi Standar harga: {std_deviation_BLOCK}\")"
      ],
      "metadata": {
        "colab": {
          "base_uri": "https://localhost:8080/"
        },
        "id": "_XcL1NNoKTpv",
        "outputId": "4188fcda-b358-4cc7-8a7c-7618e660ab7c"
      },
      "execution_count": null,
      "outputs": [
        {
          "output_type": "stream",
          "name": "stdout",
          "text": [
            "\n",
            "Deviassi Standar harga: 3568.2634066310475\n"
          ]
        }
      ]
    },
    {
      "cell_type": "code",
      "source": [
        "plt.hist(df['BLOCK'], bins=20, color='blue', edgecolor='black')\n",
        "plt.title('Distribusi Harga')\n",
        "plt.xlabel('Harga')\n",
        "plt.ylabel('Frekuensi')\n",
        "plt.show()"
      ],
      "metadata": {
        "colab": {
          "base_uri": "https://localhost:8080/",
          "height": 472
        },
        "id": "3Mks419aMDFq",
        "outputId": "ea035b81-03a4-435b-8265-62fe61047392"
      },
      "execution_count": null,
      "outputs": [
        {
          "output_type": "display_data",
          "data": {
            "text/plain": [
              "<Figure size 640x480 with 1 Axes>"
            ],
            "image/png": "[encoded data removed]"
          },
          "metadata": {}
        }
      ]
    },
    {
      "cell_type": "markdown",
      "source": [
        "#**Probability Distribution**"
      ],
      "metadata": {
        "id": "rtdciwZTNQ3P"
      }
    },
    {
      "cell_type": "code",
      "source": [
        "# Hitung distribusi probabilitas untuk kolom 'BOROUGH'\n",
        "borough_distribution = df['BOROUGH'].value_counts(normalize=True)\n",
        "\n",
        "# Tampilkan hasil\n",
        "print(\"\\nDistribusi Probabilitas untuk BOROUGH:\")\n",
        "print(borough_distribution)"
      ],
      "metadata": {
        "colab": {
          "base_uri": "https://localhost:8080/"
        },
        "id": "Rb8qVxyGQmqp",
        "outputId": "0b5d97b5-8cc8-4afb-e2e5-dab57db8c76b"
      },
      "execution_count": null,
      "outputs": [
        {
          "output_type": "stream",
          "name": "stdout",
          "text": [
            "\n",
            "Distribusi Probabilitas untuk BOROUGH:\n",
            "4    0.316223\n",
            "3    0.284418\n",
            "1    0.216516\n",
            "5    0.099470\n",
            "2    0.083373\n",
            "Name: BOROUGH, dtype: float64\n"
          ]
        }
      ]
    },
    {
      "cell_type": "code",
      "source": [
        "borough_distribution.plot(kind='bar', color='skyblue', edgecolor='black')\n",
        "plt.title('Distribusi Probabilitas BOROUGH')\n",
        "plt.xlabel('BOROUGH')\n",
        "plt.ylabel('Probabilitas')\n",
        "plt.show()"
      ],
      "metadata": {
        "colab": {
          "base_uri": "https://localhost:8080/",
          "height": 467
        },
        "id": "ZHLVDfdwYW7C",
        "outputId": "6c58ee39-a7a7-4915-a3a5-bf4a9049a117"
      },
      "execution_count": null,
      "outputs": [
        {
          "output_type": "display_data",
          "data": {
            "text/plain": [
              "<Figure size 640x480 with 1 Axes>"
            ],
            "image/png": "[encoded data removed]"
          },
          "metadata": {}
        }
      ]
    },
    {
      "cell_type": "markdown",
      "source": [
        "Menggunakan matplotlib untuk membuat diagram batang guna memvisualisasi distribusi probabilitas."
      ],
      "metadata": {
        "id": "vI8dCjXCYoaU"
      }
    },
    {
      "cell_type": "markdown",
      "source": [
        "#**Confidence Intervals**"
      ],
      "metadata": {
        "id": "o_kS4ROUNZuG"
      }
    },
    {
      "cell_type": "code",
      "source": [
        "# Hitung interval kepercayaan untuk mean harga ('RESIDENTIAL UNITS)\n",
        "confidence_level = 0.95\n",
        "mean_RESIDENTIALUNITS = df['RESIDENTIAL UNITS'].mean()\n",
        "std_dev_RESIDENTIALUNITS = df['RESIDENTIAL UNITS'].std()\n",
        "sample_size = len(df['RESIDENTIAL UNITS'])\n",
        "margin_of_error = 1.96 * (std_dev_RESIDENTIALUNITS / np.sqrt(sample_size))\n",
        "\n",
        "# Hitung confidence interval\n",
        "confidence_interval_lower = mean_RESIDENTIALUNITS - margin_of_error\n",
        "confidence_interval_upper = mean_RESIDENTIALUNITS + margin_of_error\n",
        "\n",
        "# Tampilkan hasil\n",
        "print(f\"\\nInterval kepercayaan untuk rata-rata harga (96%):\")\n",
        "print(f\"Lower Bound: {confidence_interval_lower}\")\n",
        "print(f\"Upper Bound: {confidence_interval_upper}\")"
      ],
      "metadata": {
        "colab": {
          "base_uri": "https://localhost:8080/"
        },
        "id": "p7BddOIPZsHB",
        "outputId": "b6ec07fc-92b8-4476-b855-b2c7fa3fe07c"
      },
      "execution_count": null,
      "outputs": [
        {
          "output_type": "stream",
          "name": "stdout",
          "text": [
            "\n",
            "Interval kepercayaan untuk rata-rata harga (96%):\n",
            "Lower Bound: 1.9125524162268146\n",
            "Upper Bound: 2.1379750947728544\n"
          ]
        }
      ]
    },
    {
      "cell_type": "markdown",
      "source": [
        "Menggunakan rumus interval kepercayaan dengan tingkat kepercayaan 95% (z-score 1.96)."
      ],
      "metadata": {
        "id": "5xeop89Lhf78"
      }
    },
    {
      "cell_type": "markdown",
      "source": [
        "#**Hypothesis Testing**"
      ],
      "metadata": {
        "id": "O0cn-vGeNgMg"
      }
    },
    {
      "cell_type": "code",
      "source": [
        "# Memisahkan data harga untuk masing-masing kelompok\n",
        "borough_1_prices = df[df['BOROUGH'] == 1]['TOTAL UNITS']\n",
        "borough_2_prices = df[df['BOROUGH'] == 2]['TOTAL UNITS']\n",
        "\n",
        "# Melakukan uji t independen\n",
        "t_statistic, p_value = ttest_ind(borough_1_prices, borough_2_prices, equal_var=False)"
      ],
      "metadata": {
        "id": "E45GE3AlhbuI"
      },
      "execution_count": null,
      "outputs": []
    },
    {
      "cell_type": "markdown",
      "source": [
        "Menggunakan fungsi ttest_ind dari scipy.stats unutuk melakukan uji t indpenden.equal_var=False karena diasumsikan varian tidak sama."
      ],
      "metadata": {
        "id": "-uaGdOcylvuR"
      }
    },
    {
      "cell_type": "code",
      "source": [
        "# Tampilkan hasil\n",
        "print(f\"\\nHasil Uji T Independen:\")\n",
        "print(f\"T-statistic: {t_statistic}\")\n",
        "print(f\"P-value: {p_value}\")"
      ],
      "metadata": {
        "colab": {
          "base_uri": "https://localhost:8080/"
        },
        "id": "mjt-bh8lmu67",
        "outputId": "5082e55b-8e57-498c-cf5a-f279dab4c791"
      },
      "execution_count": null,
      "outputs": [
        {
          "output_type": "stream",
          "name": "stdout",
          "text": [
            "\n",
            "Hasil Uji T Independen:\n",
            "T-statistic: -2.8588069248951116\n",
            "P-value: 0.004259428629568306\n"
          ]
        }
      ]
    },
    {
      "cell_type": "markdown",
      "source": [
        "Mencetak hasil uji t independen ke konsol menggunakan fungsi 'print()'."
      ],
      "metadata": {
        "id": "gMz7mqFtNnAS"
      }
    },
    {
      "cell_type": "code",
      "source": [
        "alpha = 0.05\n",
        "if p_value < alpha:\n",
        "  print(\"\\nKesimpulan: Tolak HO, ada perbedaan signifikan antara dua kelompok.\")\n",
        "else:\n",
        "  print(\"\\nKesimpulan: Gagal tolak H0, tidak ada bukti signifikan adanya perbedaan antara dua kelompok.\")"
      ],
      "metadata": {
        "colab": {
          "base_uri": "https://localhost:8080/"
        },
        "id": "l0fk6sZHnXYc",
        "outputId": "5b630ef6-80dc-462c-d32f-53698a5c5f72"
      },
      "execution_count": null,
      "outputs": [
        {
          "output_type": "stream",
          "name": "stdout",
          "text": [
            "\n",
            "Kesimpulan: Tolak HO, ada perbedaan signifikan antara dua kelompok.\n"
          ]
        }
      ]
    },
    {
      "cell_type": "markdown",
      "source": [
        "Melakukan interpretasi berdasarkan nilai p-value dengan tingkat signifikansi alpha."
      ],
      "metadata": {
        "id": "DSbYxWHQnYCZ"
      }
    }
  ]
}